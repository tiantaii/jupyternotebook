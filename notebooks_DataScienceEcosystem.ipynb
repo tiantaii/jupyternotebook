{
  "metadata": {
    "language_info": {
      "codemirror_mode": {
        "name": "python",
        "version": 3
      },
      "file_extension": ".py",
      "mimetype": "text/x-python",
      "name": "python",
      "nbconvert_exporter": "python",
      "pygments_lexer": "ipython3",
      "version": "3.8"
    },
    "kernelspec": {
      "name": "python",
      "display_name": "Python (Pyodide)",
      "language": "python"
    }
  },
  "nbformat_minor": 4,
  "nbformat": 4,
  "cells": [
    {
      "cell_type": "markdown",
      "source": "# Data Science Tools and Ecosystem",
      "metadata": {}
    },
    {
      "cell_type": "code",
      "source": "# In this notebook, Data Science Tools and Ecosystem are summarized.",
      "metadata": {},
      "execution_count": null,
      "outputs": []
    },
    {
      "cell_type": "markdown",
      "source": "# Some of the popular languages that Data Scientists use are:\n\n1. Python\n2. R\n3. Julia\n4. Scala\n",
      "metadata": {}
    },
    {
      "cell_type": "markdown",
      "source": "Some of the commonly used libraries used by Data Scientists include:\n",
      "metadata": {}
    },
    {
      "cell_type": "markdown",
      "source": "1. NumPy\n2. Pandas\n3. Matplotlib\n",
      "metadata": {}
    },
    {
      "cell_type": "markdown",
      "source": "| Data Science Tools |\n| ----------------- |\n| Jupyter Notebook  |\n| Python            |\n| R                 |\n",
      "metadata": {}
    },
    {
      "cell_type": "markdown",
      "source": "### Below are a few examples of evaluating arithmetic expressions in Python.\n- Example 1: Addition\n  - `2 + 3 = 5`\n- Example 2: Subtraction\n  - `5 - 2 = 3`\n- Example 3: Multiplication\n  - `4 * 6 = 24`\n- Example 4: Division\n  - `10 / 2 = 5`\n- Example 5: Exponentiation\n  - `2 ** 4 = 16`\n",
      "metadata": {}
    },
    {
      "cell_type": "code",
      "source": "# This will convert 200 minutes to hours by dividing by 60.\nminutes = 200\nhours = minutes / 60\nhours\n",
      "metadata": {
        "trusted": true
      },
      "execution_count": 10,
      "outputs": [
        {
          "execution_count": 10,
          "output_type": "execute_result",
          "data": {
            "text/plain": "3.3333333333333335"
          },
          "metadata": {}
        }
      ]
    },
    {
      "cell_type": "markdown",
      "source": "**Objectives:**\n\n- List popular languages for Data Science.\n- Summarize the Data Science Tools and Ecosystem.\n- Describe the common libraries used in Data Science.\n- Create a table of Data Science Tools.\n- Provide examples of arithmetic expressions in Python.\n- Convert minutes to hours.\n",
      "metadata": {}
    },
    {
      "cell_type": "markdown",
      "source": "## Author\nSantiago Marr",
      "metadata": {}
    },
    {
      "cell_type": "code",
      "source": "",
      "metadata": {},
      "execution_count": null,
      "outputs": []
    }
  ]
}